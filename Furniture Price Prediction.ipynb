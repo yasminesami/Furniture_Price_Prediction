{
 "cells": [
  {
   "cell_type": "markdown",
   "id": "0e71df89",
   "metadata": {},
   "source": [
    "# Project: Furniture Price Prediction  (Jumia)\n",
    "\n",
    "## Table of Contents\n",
    "<ul>\n",
    "<li><a href=\"#intro\">Introduction</a></li>\n",
    "<li><a href=\"#wrangling\">Data Wrangling</a></li>\n",
    "<li><a href=\"#eda\">Data Preprocessing</a></li>\n",
    "<li><a href=\"#conclusions\">Modelling</a></li>\n",
    "<li><a href=\"#conclusions\">Evaluation</a></li>\n",
    "<li><a href=\"#conclusions\">Conclusion</a></li>\n",
    "    \n",
    "\n",
    "</ul>"
   ]
  },
  {
   "cell_type": "markdown",
   "id": "6229227e",
   "metadata": {},
   "source": [
    "<a id='intro'></a>\n",
    "## Introduction\n",
    "\n",
    "The dataset contains detailed information\n",
    "about various types of furniture and information\n",
    "about furniture prices sold\n",
    "on Jumia.com\n",
    "\n",
    "# About this dataset 📭\n",
    "This dataset contains 2000 rows of listings for data analyst and machine learning positions, with features such as:\n",
    "\n",
    "● Furniture: it has the furniture name\n",
    "\n",
    "● Type: it has the type of furniture\n",
    "\n",
    "● Url: it has the link to the furniture page\n",
    "\n",
    "● Rate: it has the rate of furniture\n",
    "     (note ==> 0 means that the furniture is not rated)\n",
    "  \n",
    "● Delivery: it has the price of delivery to a house\n",
    "\n",
    "● Sale: it has the percentage of discounts on furniture\n",
    "\n",
    "● Price: it has the price of furniture"
   ]
  },
  {
   "cell_type": "code",
   "execution_count": 2,
   "id": "2ee1e8a0",
   "metadata": {},
   "outputs": [],
   "source": [
    "#Import the libraries\n",
    "import numpy as np\n",
    "import pandas as pd\n",
    "from sklearn.model_selection import train_test_split\n",
    "from sklearn.linear_model import LinearRegression\n",
    "from sklearn.ensemble import RandomForestRegressor\n",
    "from sklearn.ensemble import AdaBoostRegressor\n",
    "from sklearn.svm import SVR\n",
    "from sklearn.neighbors import KNeighborsRegressor\n",
    "from sklearn.metrics import mean_absolute_error\n",
    "from sklearn.metrics import mean_squared_error\n",
    "\n",
    "\n",
    "\n"
   ]
  },
  {
   "cell_type": "markdown",
   "id": "46c8ddc7",
   "metadata": {},
   "source": [
    "<a id='wrangling'></a>\n",
    "## Data Wrangling\n",
    "\n",
    "In this step we will load the data , assess the dataset and clean it to be ready for analysis . \n",
    "\n",
    "### General look"
   ]
  },
  {
   "cell_type": "code",
   "execution_count": 3,
   "id": "138c9c82",
   "metadata": {
    "scrolled": true
   },
   "outputs": [
    {
     "data": {
      "text/html": [
       "<div>\n",
       "<style scoped>\n",
       "    .dataframe tbody tr th:only-of-type {\n",
       "        vertical-align: middle;\n",
       "    }\n",
       "\n",
       "    .dataframe tbody tr th {\n",
       "        vertical-align: top;\n",
       "    }\n",
       "\n",
       "    .dataframe thead th {\n",
       "        text-align: right;\n",
       "    }\n",
       "</style>\n",
       "<table border=\"1\" class=\"dataframe\">\n",
       "  <thead>\n",
       "    <tr style=\"text-align: right;\">\n",
       "      <th></th>\n",
       "      <th>furniture</th>\n",
       "      <th>type</th>\n",
       "      <th>url</th>\n",
       "      <th>rate</th>\n",
       "      <th>delivery</th>\n",
       "      <th>sale</th>\n",
       "      <th>price</th>\n",
       "    </tr>\n",
       "  </thead>\n",
       "  <tbody>\n",
       "    <tr>\n",
       "      <th>0</th>\n",
       "      <td>Bed side table with storage shelf</td>\n",
       "      <td>Home Decor Center</td>\n",
       "      <td>https://www.jumia.com.eg//ar/home-decor-center...</td>\n",
       "      <td>3.3</td>\n",
       "      <td>172.14</td>\n",
       "      <td>72%</td>\n",
       "      <td>2500.0</td>\n",
       "    </tr>\n",
       "    <tr>\n",
       "      <th>1</th>\n",
       "      <td>Bed side table with storage shelf</td>\n",
       "      <td>Modern Home</td>\n",
       "      <td>https://www.jumia.com.eg//ar/modern-home-bedsi...</td>\n",
       "      <td>0.0</td>\n",
       "      <td>172.14</td>\n",
       "      <td>54%</td>\n",
       "      <td>1200.0</td>\n",
       "    </tr>\n",
       "    <tr>\n",
       "      <th>2</th>\n",
       "      <td>Modern Zigzag TV Table</td>\n",
       "      <td>Modern Home</td>\n",
       "      <td>https://www.jumia.com.eg//ar/generic-zigzag-tv...</td>\n",
       "      <td>0.0</td>\n",
       "      <td>172.14</td>\n",
       "      <td>18%</td>\n",
       "      <td>1099.0</td>\n",
       "    </tr>\n",
       "    <tr>\n",
       "      <th>3</th>\n",
       "      <td>Bedside table with storage shelf</td>\n",
       "      <td>Modern Home</td>\n",
       "      <td>https://www.jumia.com.eg//ar/modern-home-bedsi...</td>\n",
       "      <td>0.0</td>\n",
       "      <td>172.14</td>\n",
       "      <td>58%</td>\n",
       "      <td>1200.0</td>\n",
       "    </tr>\n",
       "    <tr>\n",
       "      <th>4</th>\n",
       "      <td>Wall Mounted TV Unit with Cabinet TV Stand Uni...</td>\n",
       "      <td>Modern Home</td>\n",
       "      <td>https://www.jumia.com.eg//ar/modern-home-wall-...</td>\n",
       "      <td>5.0</td>\n",
       "      <td>52.44</td>\n",
       "      <td>54%</td>\n",
       "      <td>1400.0</td>\n",
       "    </tr>\n",
       "  </tbody>\n",
       "</table>\n",
       "</div>"
      ],
      "text/plain": [
       "                                           furniture               type  \\\n",
       "0                 Bed side table with storage shelf   Home Decor Center   \n",
       "1                 Bed side table with storage shelf         Modern Home   \n",
       "2                            Modern Zigzag TV Table         Modern Home   \n",
       "3                  Bedside table with storage shelf         Modern Home   \n",
       "4  Wall Mounted TV Unit with Cabinet TV Stand Uni...        Modern Home   \n",
       "\n",
       "                                                 url  rate  delivery sale  \\\n",
       "0  https://www.jumia.com.eg//ar/home-decor-center...   3.3    172.14  72%   \n",
       "1  https://www.jumia.com.eg//ar/modern-home-bedsi...   0.0    172.14  54%   \n",
       "2  https://www.jumia.com.eg//ar/generic-zigzag-tv...   0.0    172.14  18%   \n",
       "3  https://www.jumia.com.eg//ar/modern-home-bedsi...   0.0    172.14  58%   \n",
       "4  https://www.jumia.com.eg//ar/modern-home-wall-...   5.0     52.44  54%   \n",
       "\n",
       "    price  \n",
       "0  2500.0  \n",
       "1  1200.0  \n",
       "2  1099.0  \n",
       "3  1200.0  \n",
       "4  1400.0  "
      ]
     },
     "execution_count": 3,
     "metadata": {},
     "output_type": "execute_result"
    }
   ],
   "source": [
    "# Loading the data \n",
    "data=pd.read_csv('Furniture Price Prediction.csv')\n",
    "df=data.copy()\n",
    "df.head()"
   ]
  },
  {
   "cell_type": "code",
   "execution_count": 4,
   "id": "02227dcd",
   "metadata": {},
   "outputs": [
    {
     "data": {
      "text/html": [
       "<div>\n",
       "<style scoped>\n",
       "    .dataframe tbody tr th:only-of-type {\n",
       "        vertical-align: middle;\n",
       "    }\n",
       "\n",
       "    .dataframe tbody tr th {\n",
       "        vertical-align: top;\n",
       "    }\n",
       "\n",
       "    .dataframe thead th {\n",
       "        text-align: right;\n",
       "    }\n",
       "</style>\n",
       "<table border=\"1\" class=\"dataframe\">\n",
       "  <thead>\n",
       "    <tr style=\"text-align: right;\">\n",
       "      <th></th>\n",
       "      <th>furniture</th>\n",
       "      <th>type</th>\n",
       "      <th>url</th>\n",
       "      <th>rate</th>\n",
       "      <th>delivery</th>\n",
       "      <th>sale</th>\n",
       "      <th>price</th>\n",
       "    </tr>\n",
       "  </thead>\n",
       "  <tbody>\n",
       "    <tr>\n",
       "      <th>1995</th>\n",
       "      <td>Casio Standard Analogue Ladys Standard Analog ...</td>\n",
       "      <td>Casio Standard Analogue Ladys Standard Analog ...</td>\n",
       "      <td>https://www.jumia.com.eg//ar/casio-standard-an...</td>\n",
       "      <td>0.0</td>\n",
       "      <td>656.28</td>\n",
       "      <td>0%</td>\n",
       "      <td>1632.0</td>\n",
       "    </tr>\n",
       "    <tr>\n",
       "      <th>1996</th>\n",
       "      <td>Coffee table + side table</td>\n",
       "      <td>Hub Furniture</td>\n",
       "      <td>https://www.jumia.com.eg//ar/hub-furniture-ae-...</td>\n",
       "      <td>0.0</td>\n",
       "      <td>172.14</td>\n",
       "      <td>0%</td>\n",
       "      <td>11450.0</td>\n",
       "    </tr>\n",
       "    <tr>\n",
       "      <th>1997</th>\n",
       "      <td>Ben Togo Baby Bed</td>\n",
       "      <td>Bean GO</td>\n",
       "      <td>https://www.jumia.com.eg//ar/bean2go-newborn-b...</td>\n",
       "      <td>0.0</td>\n",
       "      <td>52.44</td>\n",
       "      <td>0%</td>\n",
       "      <td>550.0</td>\n",
       "    </tr>\n",
       "    <tr>\n",
       "      <th>1998</th>\n",
       "      <td>Cloud memory foam mattress (medical)</td>\n",
       "      <td>CIREM</td>\n",
       "      <td>https://www.jumia.com.eg//ar/cirem-cloud-memor...</td>\n",
       "      <td>0.0</td>\n",
       "      <td>172.14</td>\n",
       "      <td>9%</td>\n",
       "      <td>8495.0</td>\n",
       "    </tr>\n",
       "    <tr>\n",
       "      <th>1999</th>\n",
       "      <td>Comfy memory foam mattress</td>\n",
       "      <td>CIREM</td>\n",
       "      <td>https://www.jumia.com.eg//ar/cirem-comfy-medic...</td>\n",
       "      <td>0.0</td>\n",
       "      <td>172.14</td>\n",
       "      <td>10%</td>\n",
       "      <td>10775.0</td>\n",
       "    </tr>\n",
       "  </tbody>\n",
       "</table>\n",
       "</div>"
      ],
      "text/plain": [
       "                                              furniture  \\\n",
       "1995  Casio Standard Analogue Ladys Standard Analog ...   \n",
       "1996                          Coffee table + side table   \n",
       "1997                                 Ben Togo Baby Bed    \n",
       "1998               Cloud memory foam mattress (medical)   \n",
       "1999                         Comfy memory foam mattress   \n",
       "\n",
       "                                                   type  \\\n",
       "1995  Casio Standard Analogue Ladys Standard Analog ...   \n",
       "1996                                      Hub Furniture   \n",
       "1997                                            Bean GO   \n",
       "1998                                              CIREM   \n",
       "1999                                              CIREM   \n",
       "\n",
       "                                                    url  rate  delivery sale  \\\n",
       "1995  https://www.jumia.com.eg//ar/casio-standard-an...   0.0    656.28   0%   \n",
       "1996  https://www.jumia.com.eg//ar/hub-furniture-ae-...   0.0    172.14   0%   \n",
       "1997  https://www.jumia.com.eg//ar/bean2go-newborn-b...   0.0     52.44   0%   \n",
       "1998  https://www.jumia.com.eg//ar/cirem-cloud-memor...   0.0    172.14   9%   \n",
       "1999  https://www.jumia.com.eg//ar/cirem-comfy-medic...   0.0    172.14  10%   \n",
       "\n",
       "        price  \n",
       "1995   1632.0  \n",
       "1996  11450.0  \n",
       "1997    550.0  \n",
       "1998   8495.0  \n",
       "1999  10775.0  "
      ]
     },
     "execution_count": 4,
     "metadata": {},
     "output_type": "execute_result"
    }
   ],
   "source": [
    "df.tail()"
   ]
  },
  {
   "cell_type": "code",
   "execution_count": 6,
   "id": "0438bc35",
   "metadata": {},
   "outputs": [
    {
     "name": "stdout",
     "output_type": "stream",
     "text": [
      "<class 'pandas.core.frame.DataFrame'>\n",
      "RangeIndex: 2000 entries, 0 to 1999\n",
      "Data columns (total 7 columns):\n",
      " #   Column     Non-Null Count  Dtype  \n",
      "---  ------     --------------  -----  \n",
      " 0   furniture  2000 non-null   object \n",
      " 1   type       2000 non-null   object \n",
      " 2   url        2000 non-null   object \n",
      " 3   rate       2000 non-null   float64\n",
      " 4   delivery   2000 non-null   float64\n",
      " 5   sale       2000 non-null   object \n",
      " 6   price      1961 non-null   float64\n",
      "dtypes: float64(3), object(4)\n",
      "memory usage: 109.5+ KB\n"
     ]
    }
   ],
   "source": [
    "df.info()"
   ]
  },
  {
   "cell_type": "code",
   "execution_count": 7,
   "id": "c84d9368",
   "metadata": {},
   "outputs": [
    {
     "data": {
      "text/plain": [
       "(2000, 7)"
      ]
     },
     "execution_count": 7,
     "metadata": {},
     "output_type": "execute_result"
    }
   ],
   "source": [
    "df.shape"
   ]
  },
  {
   "cell_type": "code",
   "execution_count": 8,
   "id": "4bef787f",
   "metadata": {},
   "outputs": [
    {
     "data": {
      "text/plain": [
       "furniture     0\n",
       "type          0\n",
       "url           0\n",
       "rate          0\n",
       "delivery      0\n",
       "sale          0\n",
       "price        39\n",
       "dtype: int64"
      ]
     },
     "execution_count": 8,
     "metadata": {},
     "output_type": "execute_result"
    }
   ],
   "source": [
    "df.isnull().sum()"
   ]
  },
  {
   "cell_type": "markdown",
   "id": "8cc44411",
   "metadata": {},
   "source": [
    "The data has 39 null values in \"price\" column "
   ]
  },
  {
   "cell_type": "code",
   "execution_count": 9,
   "id": "4204b641",
   "metadata": {},
   "outputs": [],
   "source": [
    "df.dropna(inplace=True)"
   ]
  },
  {
   "cell_type": "code",
   "execution_count": 10,
   "id": "da32f21d",
   "metadata": {},
   "outputs": [
    {
     "data": {
      "text/plain": [
       "furniture    0\n",
       "type         0\n",
       "url          0\n",
       "rate         0\n",
       "delivery     0\n",
       "sale         0\n",
       "price        0\n",
       "dtype: int64"
      ]
     },
     "execution_count": 10,
     "metadata": {},
     "output_type": "execute_result"
    }
   ],
   "source": [
    "df.isnull().sum()"
   ]
  },
  {
   "cell_type": "markdown",
   "id": "27754edc",
   "metadata": {},
   "source": [
    "The data now has no null values "
   ]
  },
  {
   "cell_type": "code",
   "execution_count": 11,
   "id": "36b87800",
   "metadata": {
    "scrolled": true
   },
   "outputs": [
    {
     "data": {
      "text/plain": [
       "(1961, 7)"
      ]
     },
     "execution_count": 11,
     "metadata": {},
     "output_type": "execute_result"
    }
   ],
   "source": [
    "df.shape"
   ]
  },
  {
   "cell_type": "code",
   "execution_count": 12,
   "id": "b81d6e80",
   "metadata": {},
   "outputs": [
    {
     "data": {
      "text/plain": [
       "(1961, 6)"
      ]
     },
     "execution_count": 12,
     "metadata": {},
     "output_type": "execute_result"
    }
   ],
   "source": [
    "df.drop(['url'],axis=1,inplace=True)\n",
    "df.shape"
   ]
  },
  {
   "cell_type": "markdown",
   "id": "c6b2a43c",
   "metadata": {},
   "source": [
    "# Descriptive Statistics"
   ]
  },
  {
   "cell_type": "code",
   "execution_count": 13,
   "id": "9687ac3d",
   "metadata": {},
   "outputs": [
    {
     "data": {
      "text/html": [
       "<div>\n",
       "<style scoped>\n",
       "    .dataframe tbody tr th:only-of-type {\n",
       "        vertical-align: middle;\n",
       "    }\n",
       "\n",
       "    .dataframe tbody tr th {\n",
       "        vertical-align: top;\n",
       "    }\n",
       "\n",
       "    .dataframe thead th {\n",
       "        text-align: right;\n",
       "    }\n",
       "</style>\n",
       "<table border=\"1\" class=\"dataframe\">\n",
       "  <thead>\n",
       "    <tr style=\"text-align: right;\">\n",
       "      <th></th>\n",
       "      <th>rate</th>\n",
       "      <th>delivery</th>\n",
       "      <th>price</th>\n",
       "    </tr>\n",
       "  </thead>\n",
       "  <tbody>\n",
       "    <tr>\n",
       "      <th>count</th>\n",
       "      <td>1961.000000</td>\n",
       "      <td>1961.000000</td>\n",
       "      <td>1961.000000</td>\n",
       "    </tr>\n",
       "    <tr>\n",
       "      <th>mean</th>\n",
       "      <td>0.749567</td>\n",
       "      <td>141.282963</td>\n",
       "      <td>2910.418195</td>\n",
       "    </tr>\n",
       "    <tr>\n",
       "      <th>std</th>\n",
       "      <td>1.618916</td>\n",
       "      <td>137.392050</td>\n",
       "      <td>4002.917206</td>\n",
       "    </tr>\n",
       "    <tr>\n",
       "      <th>min</th>\n",
       "      <td>0.000000</td>\n",
       "      <td>10.830000</td>\n",
       "      <td>13.400000</td>\n",
       "    </tr>\n",
       "    <tr>\n",
       "      <th>25%</th>\n",
       "      <td>0.000000</td>\n",
       "      <td>52.440000</td>\n",
       "      <td>740.000000</td>\n",
       "    </tr>\n",
       "    <tr>\n",
       "      <th>50%</th>\n",
       "      <td>0.000000</td>\n",
       "      <td>172.140000</td>\n",
       "      <td>1900.000000</td>\n",
       "    </tr>\n",
       "    <tr>\n",
       "      <th>75%</th>\n",
       "      <td>0.000000</td>\n",
       "      <td>172.140000</td>\n",
       "      <td>4000.000000</td>\n",
       "    </tr>\n",
       "    <tr>\n",
       "      <th>max</th>\n",
       "      <td>5.000000</td>\n",
       "      <td>2409.900000</td>\n",
       "      <td>55000.000000</td>\n",
       "    </tr>\n",
       "  </tbody>\n",
       "</table>\n",
       "</div>"
      ],
      "text/plain": [
       "              rate     delivery         price\n",
       "count  1961.000000  1961.000000   1961.000000\n",
       "mean      0.749567   141.282963   2910.418195\n",
       "std       1.618916   137.392050   4002.917206\n",
       "min       0.000000    10.830000     13.400000\n",
       "25%       0.000000    52.440000    740.000000\n",
       "50%       0.000000   172.140000   1900.000000\n",
       "75%       0.000000   172.140000   4000.000000\n",
       "max       5.000000  2409.900000  55000.000000"
      ]
     },
     "execution_count": 13,
     "metadata": {},
     "output_type": "execute_result"
    }
   ],
   "source": [
    "df.describe()"
   ]
  },
  {
   "cell_type": "markdown",
   "id": "ea4ffde3",
   "metadata": {},
   "source": [
    "## Data Preprocessing\n",
    "So, basically there are lot of unique variables for names and types of furniture. As I suggested, they are not fit for Label Encoder. Hence, I decided to leave these features behind\n",
    "\n",
    "The only features I find fit enough for training models are:\n",
    "\n",
    "rate\n",
    "delivery\n",
    "sale\n",
    "However, sale and rate features need additional pre-processing. We need to remove \"%\" sign from sale featuer\n",
    "and replce the retes of zeroes with the average rate"
   ]
  },
  {
   "cell_type": "code",
   "execution_count": 14,
   "id": "cf4f7bf1",
   "metadata": {},
   "outputs": [],
   "source": [
    "rate_col = df[df.rate != 0]\n",
    "avg_rate = rate_col[\"rate\"].mean()\n",
    "df[\"rate\"] = df[\"rate\"].replace([0], avg_rate)"
   ]
  },
  {
   "cell_type": "code",
   "execution_count": 15,
   "id": "00e6ac0f",
   "metadata": {},
   "outputs": [
    {
     "data": {
      "text/plain": [
       "dtype('int32')"
      ]
     },
     "execution_count": 15,
     "metadata": {},
     "output_type": "execute_result"
    }
   ],
   "source": [
    "df['sale']=df['sale'].str.replace('%','')\n",
    "df['sale']=df['sale'].astype(int)\n",
    "df['sale'].dtype"
   ]
  },
  {
   "cell_type": "code",
   "execution_count": 16,
   "id": "85be0a80",
   "metadata": {},
   "outputs": [],
   "source": [
    "# selecting the most important features\n",
    "df = df[['rate', 'delivery', 'sale', 'price']]"
   ]
  },
  {
   "cell_type": "markdown",
   "id": "8a18cfab",
   "metadata": {},
   "source": [
    "## Modelling"
   ]
  },
  {
   "cell_type": "code",
   "execution_count": 17,
   "id": "7fc8de1d",
   "metadata": {},
   "outputs": [],
   "source": [
    "#Splitting the Features and Target\n",
    "x = df.iloc[:, :-1].values\n",
    "y = df.iloc[:, -1].values"
   ]
  },
  {
   "cell_type": "code",
   "execution_count": 18,
   "id": "01017906",
   "metadata": {},
   "outputs": [],
   "source": [
    "#Splitting the Data into Training data & Test Data\n",
    "x_train, x_test, y_train, y_test = train_test_split(x, y, random_state=42, test_size=0.2)"
   ]
  },
  {
   "cell_type": "code",
   "execution_count": 19,
   "id": "7215af5d",
   "metadata": {},
   "outputs": [
    {
     "name": "stdout",
     "output_type": "stream",
     "text": [
      "(1961, 3) (1568, 3) (393, 3)\n"
     ]
    }
   ],
   "source": [
    "print(x.shape, x_train.shape, x_test.shape)"
   ]
  },
  {
   "cell_type": "code",
   "execution_count": 20,
   "id": "3db61476",
   "metadata": {
    "scrolled": true
   },
   "outputs": [
    {
     "name": "stdout",
     "output_type": "stream",
     "text": [
      "(1961,) (1568,) (393,)\n"
     ]
    }
   ],
   "source": [
    "print(y.shape, y_train.shape, y_test.shape)"
   ]
  },
  {
   "cell_type": "code",
   "execution_count": 21,
   "id": "fe26cdc2",
   "metadata": {},
   "outputs": [],
   "source": [
    "def model_evaluate(model, name, plot=True):\n",
    "    y_pred = model.predict(x_test)\n",
    "    tit = name + \"\\nMAE:{}\\nMSE:{}\".format(mean_absolute_error(y_pred, y_test), mean_squared_error(y_pred, y_test))\n",
    "    print(tit)"
   ]
  },
  {
   "cell_type": "code",
   "execution_count": 22,
   "id": "12f05d3e",
   "metadata": {},
   "outputs": [],
   "source": [
    "def model_train(model, name):\n",
    "    model.fit(x_train, y_train)\n",
    "    model_evaluate(model, name, False)\n",
    "    return model"
   ]
  },
  {
   "cell_type": "markdown",
   "id": "78328655",
   "metadata": {},
   "source": [
    "## Evaluation"
   ]
  },
  {
   "cell_type": "code",
   "execution_count": 23,
   "id": "e92b4993",
   "metadata": {},
   "outputs": [],
   "source": [
    "lr = LinearRegression()\n",
    "rfr = RandomForestRegressor(n_estimators=150, max_depth=60)\n",
    "svr = SVR(kernel='linear', C=0.6)\n",
    "abr = AdaBoostRegressor(n_estimators=45, learning_rate=0.3)\n",
    "knr = KNeighborsRegressor(n_neighbors=10)\n",
    "models = [lr, rfr, svr, abr, knr]\n",
    "names = ['Linear Regression', 'Random Forest Regressor', 'Support Vector Regression',\n",
    "        'Ada Boost Regressor', 'KNeighbors Regressor']"
   ]
  },
  {
   "cell_type": "code",
   "execution_count": 24,
   "id": "1fca25c3",
   "metadata": {},
   "outputs": [
    {
     "name": "stdout",
     "output_type": "stream",
     "text": [
      "Linear Regression\n",
      "MAE:2270.5836028215085\n",
      "MSE:16818537.32002697\n",
      "\n",
      "Random Forest Regressor\n",
      "MAE:1805.291061519253\n",
      "MSE:13963891.708192393\n",
      "\n",
      "Support Vector Regression\n",
      "MAE:2144.6867278213886\n",
      "MSE:17397965.331989214\n",
      "\n",
      "Ada Boost Regressor\n",
      "MAE:2509.2483683737505\n",
      "MSE:18350626.578109298\n",
      "\n",
      "KNeighbors Regressor\n",
      "MAE:2030.0459033078882\n",
      "MSE:15175795.151673162\n",
      "\n"
     ]
    }
   ],
   "source": [
    "mls = []\n",
    "for i, j in zip(models, names):\n",
    "    mls.append(model_train(i, j))\n",
    "    print()"
   ]
  },
  {
   "attachments": {
    "image-2.png": {
     "image/png": "[encoded data removed]"
    },
    "image-3.png": {
     "image/png": "[encoded data removed]"
    },
    "image.png": {
     "image/png": "[encoded data removed]"
    }
   },
   "cell_type": "markdown",
   "id": "57b3e274",
   "metadata": {},
   "source": [
    "### Evaluate trained models\n",
    "\n",
    "I used Mean Absolute Error(MAE)\n",
    "\n",
    "![image.png](attachment:image.png)\n",
    "\n",
    "and Mean Squared Error(MSE)\n",
    "\n",
    "![image-2.png](attachment:image-2.png)\n",
    "\n",
    "Where:\n",
    "\n",
    "![image-3.png](attachment:image-3.png)\n"
   ]
  },
  {
   "cell_type": "markdown",
   "id": "7f88839e",
   "metadata": {},
   "source": [
    "## Conclusion"
   ]
  },
  {
   "cell_type": "markdown",
   "id": "04f0850d",
   "metadata": {},
   "source": [
    " The best and most consistent models used are:\n",
    " \n",
    " Random Forest Regressor max_depth = 60 and n_estimators = 150\n",
    " \n",
    " and KNeighborsRegressor with K=10"
   ]
  },
  {
   "cell_type": "code",
   "execution_count": null,
   "id": "e15c29b2",
   "metadata": {},
   "outputs": [],
   "source": []
  }
 ],
 "metadata": {
  "kernelspec": {
   "display_name": "Python 3 (ipykernel)",
   "language": "python",
   "name": "python3"
  },
  "language_info": {
   "codemirror_mode": {
    "name": "ipython",
    "version": 3
   },
   "file_extension": ".py",
   "mimetype": "text/x-python",
   "name": "python",
   "nbconvert_exporter": "python",
   "pygments_lexer": "ipython3",
   "version": "3.9.13"
  }
 },
 "nbformat": 4,
 "nbformat_minor": 5
}
